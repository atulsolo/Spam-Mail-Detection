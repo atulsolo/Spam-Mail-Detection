{
 "cells": [
  {
   "cell_type": "markdown",
   "id": "116f2d6b",
   "metadata": {},
   "source": [
    "# Understanding Regex\n",
    "\n",
    "As you're a software developer, you have probably encountered regular expressions many times and got consufed many times with these daunting set of characters grouped together like this:\n",
    "\n",
    "<img src=\".\\Images\\12.png\">\n",
    "\n",
    "And you may wondered what this is all about?\n",
    "\n",
    "Regular Expressions(Regx or RegExp) are too useful in stepping up your algorithm game and this will make you a better problem solver. The structure of Regx can be intimidating at first, but it is very rewarding once you got all the patterns and implement them in your work properly.\n",
    "\n",
    "\n",
    "## What is RegEx and why is it important?\n",
    "\n",
    "A Regex or we called it as regular expression, it is a type of object will help you out to extract information from any string data by searching through text and find it out what you need.Whether it's punctuation, numbers, letters, or even white spaces, RegEx will allow you to check and match any of the character combination in strings.\n",
    "\n",
    "For example, suppose you need to match the format of a email addresses or security numbers. You can utilize RegEx to check the pattern inside the text strings and use it to replace another substring.\n",
    "\n",
    "For instance, a RegEx could tell the program to search for the specific text from the string and then to print out the output accordingly. Expressions can include Text matching, Repetition of words,Branching,pattern-composition.\n",
    "\n",
    "\n",
    "\n",
    "### RegEx Syntax\n",
    "\n",
    "    import re\n",
    "\n",
    "- *re* library in Python is used for string searching and manipulation.\n",
    "- We also used it frequently for web scraping.\n",
    "\n",
    "#### Example for w+ and ^ Expression\n",
    "\n",
    "- *^:* Here in this expression matches the start of a string.\n",
    "- *w+:* This expression matches for the alphanumeric characters from inside the string.\n",
    "\n",
    "Here, we will give one example of how you can use \"w+\" and \"^\" expressions in code. re.findall will cover in next parts,so just focus on the \"w+\" and \"^\" expression.\n",
    "\n",
    "Let's have an example \"Shivam23, Data Science Teaching Consultant\", if we execute the code we will get \"Shivam23\" as a result."
   ]
  },
  {
   "cell_type": "markdown",
   "id": "3d410800",
   "metadata": {},
   "source": [
    "## Use RegEx methods\n",
    "\n",
    "The \"re\" packages provide several methods to actually perform queries on an input string. We will see different methods which are\n",
    "\n",
    "    re.match()\n",
    "    re.search()\n",
    "    re.findall()\n",
    "    \n",
    "**Note:** Based on the RegEx, Python offers two different primitive operations. This match method checks for the match only at the begining of the string while search checks for a match anywhere in the string.\n"
   ]
  },
  {
   "cell_type": "markdown",
   "id": "aabe3e1a",
   "metadata": {},
   "source": [
    "### Character sets\n",
    "| Pattern  | Matches                                                                                    |\n",
    "|----------|--------------------------------------------------------------------------------------------|\n",
    "| [abc]    | Matches either an a, b or c character                                                      |\n",
    "| [abcABC] | Matches either an a, A, b, B, c or C character                                             |\n",
    "| [a-z]    | Matches any characters between a and z, including a and z                                  |\n",
    "| [A-Z]    | Matches any characters between A and Z, including A and Z                                  |\n",
    "| [a-zA-Z] | Matches any characters between a and z, including a and z ignoring cases of the characters |\n",
    "| [0-9]    | Matches any character which is a number between 0 and 9                                    |"
   ]
  },
  {
   "cell_type": "markdown",
   "id": "312393ec",
   "metadata": {},
   "source": [
    "### Meta sequences\n",
    "\n",
    "| Pattern  | Equivalent to    |\n",
    "|----------|------------------|\n",
    "| \\s       | [ \\t\\n\\r\\f\\v]    |\n",
    "| \\S       | [^ \\t\\n\\r\\f\\v]   |\n",
    "| \\d       | [0-9]            |\n",
    "| \\D       | [^0-9]           |\n",
    "| \\w       | [a-zA-Z0-9_]     |\n",
    "| \\W       | [^a-zA-Z0-9_]    |"
   ]
  },
  {
   "cell_type": "markdown",
   "id": "33ce8c7b",
   "metadata": {},
   "source": [
    "#### 1. re.match(pattern, string)\n",
    "*The re.match function returns a match object on success and none on failure.*"
   ]
  },
  {
   "cell_type": "code",
   "execution_count": 1,
   "id": "fce71497",
   "metadata": {},
   "outputs": [],
   "source": [
    "import re"
   ]
  },
  {
   "cell_type": "code",
   "execution_count": 38,
   "id": "81e357fc",
   "metadata": {},
   "outputs": [
    {
     "name": "stdout",
     "output_type": "stream",
     "text": [
      "<re.Match object; span=(0, 2), match='We'>\n"
     ]
    }
   ],
   "source": [
    "# match a word at the beginning of a string\n",
    "\n",
    "result = re.match('We', 'We will learn Regular Expression today.')\n",
    "print(result)"
   ]
  },
  {
   "cell_type": "code",
   "execution_count": 33,
   "id": "a1efe808",
   "metadata": {},
   "outputs": [
    {
     "name": "stdout",
     "output_type": "stream",
     "text": [
      "We\n"
     ]
    }
   ],
   "source": [
    "print(result.group())"
   ]
  },
  {
   "cell_type": "code",
   "execution_count": 37,
   "id": "4e26021b",
   "metadata": {},
   "outputs": [
    {
     "name": "stdout",
     "output_type": "stream",
     "text": [
      "None\n"
     ]
    }
   ],
   "source": [
    "result_2 = re.match('largest','We will learn Regular Expression today.')\n",
    "print(result_2)"
   ]
  },
  {
   "cell_type": "markdown",
   "id": "a37930f7",
   "metadata": {},
   "source": [
    "#### 2. re.search(pattern, string)\n",
    "*Matches the first occurrence of a pattern in the entire string(and not just at the beginning).*"
   ]
  },
  {
   "cell_type": "code",
   "execution_count": 40,
   "id": "1888c755",
   "metadata": {},
   "outputs": [
    {
     "name": "stdout",
     "output_type": "stream",
     "text": [
      "<re.Match object; span=(10, 17), match='founded'>\n"
     ]
    }
   ],
   "source": [
    "# search for the pattern \"founded\" in a given string\n",
    "\n",
    "result = re.search('founded',r'Andrew NG founded Coursera. He also founded deeplearning.ai')\n",
    "print(result)"
   ]
  },
  {
   "cell_type": "code",
   "execution_count": 41,
   "id": "91556bcb",
   "metadata": {},
   "outputs": [
    {
     "name": "stdout",
     "output_type": "stream",
     "text": [
      "founded\n"
     ]
    }
   ],
   "source": [
    "print(result.group())"
   ]
  },
  {
   "cell_type": "markdown",
   "id": "7cd651b5",
   "metadata": {},
   "source": [
    "#### 3. re.findall(pattern, string)\n",
    "*It will return all the occurrences of the pattern from the string. I would recommend you to use re.findall() always, it can work like both re.search() and re.match().*"
   ]
  },
  {
   "cell_type": "code",
   "execution_count": 42,
   "id": "83e76dc2",
   "metadata": {},
   "outputs": [
    {
     "name": "stdout",
     "output_type": "stream",
     "text": [
      "['founded', 'founded']\n"
     ]
    }
   ],
   "source": [
    "result = re.findall('founded',r'Andrew NG founded Coursera. He also founded deeplearning.ai')\n",
    "print(result)"
   ]
  },
  {
   "cell_type": "markdown",
   "id": "80cf3cc9",
   "metadata": {},
   "source": [
    "#### 4. sub method\n",
    "*This function is used to replace all the occurrences of the RE pattern with the new string/pattern.*"
   ]
  },
  {
   "cell_type": "code",
   "execution_count": 80,
   "id": "fd7cc017",
   "metadata": {},
   "outputs": [],
   "source": [
    "input_str = \"Hey, Are you excited??, After a 7 days, we 56 will be in Shimla!!!\""
   ]
  },
  {
   "cell_type": "code",
   "execution_count": 81,
   "id": "0d27fc8c",
   "metadata": {},
   "outputs": [
    {
     "data": {
      "text/plain": [
       "'Hey Are you excited After a 7 days we 56 will be in Shimla '"
      ]
     },
     "execution_count": 81,
     "metadata": {},
     "output_type": "execute_result"
    }
   ],
   "source": [
    "re.sub('\\W+', ' ', input_str)"
   ]
  },
  {
   "cell_type": "markdown",
   "id": "d53a31b3",
   "metadata": {},
   "source": [
    "### Special Sequences in Regular Expressions\n",
    "#### 1. \\b\n",
    "*\\b returns a match where the specified pattern is at the beginning or at the end of a word.*"
   ]
  },
  {
   "cell_type": "code",
   "execution_count": 43,
   "id": "5ab3e529",
   "metadata": {},
   "outputs": [],
   "source": [
    "st = 'LetsUpgrad is the largest and smartest Ed-tech platform in India'"
   ]
  },
  {
   "cell_type": "code",
   "execution_count": 46,
   "id": "0b0dc6a6",
   "metadata": {},
   "outputs": [
    {
     "name": "stdout",
     "output_type": "stream",
     "text": [
      "['lar']\n"
     ]
    }
   ],
   "source": [
    "x = re.findall(r'\\blar', st)\n",
    "print(x)"
   ]
  },
  {
   "cell_type": "code",
   "execution_count": 45,
   "id": "b6e906d6",
   "metadata": {},
   "outputs": [
    {
     "name": "stdout",
     "output_type": "stream",
     "text": [
      "['largest', 'smartest']\n"
     ]
    }
   ],
   "source": [
    "x = re.findall(r'\\b\\w+est\\b', st)\n",
    "print(x)"
   ]
  },
  {
   "cell_type": "markdown",
   "id": "b318733d",
   "metadata": {},
   "source": [
    "#### 2. \\d\n",
    "\\d returns a match where the string contains digits (numbers from 0-9)."
   ]
  },
  {
   "cell_type": "code",
   "execution_count": 48,
   "id": "f1442f03",
   "metadata": {},
   "outputs": [],
   "source": [
    "s1 = '1 million monthly visit in Jan 24 and the code is 6789'"
   ]
  },
  {
   "cell_type": "code",
   "execution_count": 49,
   "id": "d565b9a0",
   "metadata": {},
   "outputs": [
    {
     "name": "stdout",
     "output_type": "stream",
     "text": [
      "['1', '2', '4', '6', '7', '8', '9']\n"
     ]
    }
   ],
   "source": [
    "x = re.findall(\"\\d\", s1)\n",
    "print(x)"
   ]
  },
  {
   "cell_type": "code",
   "execution_count": 50,
   "id": "578c18e9",
   "metadata": {},
   "outputs": [
    {
     "name": "stdout",
     "output_type": "stream",
     "text": [
      "['1', '24', '6789']\n"
     ]
    }
   ],
   "source": [
    "x = re.findall(\"\\d+\", s1)\n",
    "print(x)"
   ]
  },
  {
   "cell_type": "markdown",
   "id": "217bb2a6",
   "metadata": {},
   "source": [
    "#### 3. \\D\n",
    "\\D returns a match where the string does not contain any digit. It is basically the opposite of \\d."
   ]
  },
  {
   "cell_type": "code",
   "execution_count": 51,
   "id": "f1c2771e",
   "metadata": {},
   "outputs": [],
   "source": [
    "s1 = '1 million monthly visit in Jan 24 and the code is 6789'"
   ]
  },
  {
   "cell_type": "code",
   "execution_count": 52,
   "id": "bf77915d",
   "metadata": {},
   "outputs": [
    {
     "name": "stdout",
     "output_type": "stream",
     "text": [
      "[' million monthly visit in Jan ', ' and the code is ']\n"
     ]
    }
   ],
   "source": [
    "x = re.findall(\"\\D+\", s1)\n",
    "print(x)"
   ]
  },
  {
   "cell_type": "markdown",
   "id": "e8ad2ef4",
   "metadata": {},
   "source": [
    "#### 4. \\w\n",
    "\\w helps in extraction of alphanumeric characters only (characters from a to Z, digits from 0-9, and the underscore _ character)"
   ]
  },
  {
   "cell_type": "code",
   "execution_count": 53,
   "id": "5ccab552",
   "metadata": {},
   "outputs": [],
   "source": [
    "s2 = 'Shivam is a Data Science @Consultant at ? LetsUpgrad #development and he working over there since 2022!!'"
   ]
  },
  {
   "cell_type": "code",
   "execution_count": 54,
   "id": "8d7b1652",
   "metadata": {},
   "outputs": [
    {
     "name": "stdout",
     "output_type": "stream",
     "text": [
      "['Shivam', 'is', 'a', 'Data', 'Science', 'Consultant', 'at', 'LetsUpgrad', 'development', 'and', 'he', 'working', 'over', 'there', 'since', '2022']\n"
     ]
    }
   ],
   "source": [
    "x = re.findall('\\w+', s2)\n",
    "print(x)"
   ]
  },
  {
   "cell_type": "markdown",
   "id": "4fefd2cb",
   "metadata": {},
   "source": [
    "#### 5. \\W\n",
    "\\W returns match at every non-alphanumeric character. Basically opposite of \\w."
   ]
  },
  {
   "cell_type": "code",
   "execution_count": 55,
   "id": "fd4421bb",
   "metadata": {},
   "outputs": [],
   "source": [
    "s2 = 'Shivam is a Data Science @Consultant at ? Upgrad #development and he working over there since 2022!!'"
   ]
  },
  {
   "cell_type": "code",
   "execution_count": 56,
   "id": "03ff398d",
   "metadata": {},
   "outputs": [
    {
     "name": "stdout",
     "output_type": "stream",
     "text": [
      "[' ', ' ', ' ', ' ', ' @', ' ', ' ? ', ' #', ' ', ' ', ' ', ' ', ' ', ' ', ' ', '!!']\n"
     ]
    }
   ],
   "source": [
    "x = re.findall('\\W+', s2)\n",
    "print(x)"
   ]
  },
  {
   "cell_type": "code",
   "execution_count": null,
   "id": "cccddf72",
   "metadata": {},
   "outputs": [],
   "source": []
  },
  {
   "cell_type": "markdown",
   "id": "9149c964",
   "metadata": {},
   "source": [
    "### Metacharacters in Regular Expression\n",
    "\n",
    "Metacharacters are characters with a special meaning.\n",
    "\n",
    "#### 1- (.) matches any character (except newline character)"
   ]
  },
  {
   "cell_type": "code",
   "execution_count": 57,
   "id": "f23a295b",
   "metadata": {},
   "outputs": [],
   "source": [
    "s1 = \"shivam and shivani recently published a research paper.\""
   ]
  },
  {
   "cell_type": "code",
   "execution_count": 61,
   "id": "35e19d66",
   "metadata": {},
   "outputs": [
    {
     "name": "stdout",
     "output_type": "stream",
     "text": [
      "['shivam ', 'shivani']\n"
     ]
    }
   ],
   "source": [
    "x = re.findall(\"shi....\", s1)\n",
    "print(x)"
   ]
  },
  {
   "cell_type": "code",
   "execution_count": null,
   "id": "e8cfe2d3",
   "metadata": {},
   "outputs": [],
   "source": []
  },
  {
   "cell_type": "markdown",
   "id": "e2e855a9",
   "metadata": {},
   "source": [
    "#### 2– (^) starts with\n",
    "*It checks whether the string starts with the given pattern or not.*"
   ]
  },
  {
   "cell_type": "code",
   "execution_count": 62,
   "id": "88d2f10e",
   "metadata": {},
   "outputs": [],
   "source": [
    "s2 = \"Data Science Program will be launched in coming days\""
   ]
  },
  {
   "cell_type": "code",
   "execution_count": 65,
   "id": "8ad11705",
   "metadata": {},
   "outputs": [
    {
     "name": "stdout",
     "output_type": "stream",
     "text": [
      "['Data']\n"
     ]
    }
   ],
   "source": [
    "x = re.findall(\"^Data\", s2)\n",
    "print(x)"
   ]
  },
  {
   "cell_type": "markdown",
   "id": "5fdc170a",
   "metadata": {},
   "source": [
    "#### 3- ($) ends with\n",
    "*It checks whether the string ends with the given pattern or not.*"
   ]
  },
  {
   "cell_type": "code",
   "execution_count": 66,
   "id": "a60c051b",
   "metadata": {},
   "outputs": [],
   "source": [
    "s3 = \"Data Science Program\""
   ]
  },
  {
   "cell_type": "code",
   "execution_count": 67,
   "id": "8b0929c6",
   "metadata": {},
   "outputs": [
    {
     "name": "stdout",
     "output_type": "stream",
     "text": [
      "['Program']\n"
     ]
    }
   ],
   "source": [
    "x = re.findall(\"Program$\", s3)\n",
    "print(x)"
   ]
  },
  {
   "cell_type": "markdown",
   "id": "d58f3f5d",
   "metadata": {},
   "source": [
    "#### 4- (*) matches for zero or more occurrences of the pattern to the left of it"
   ]
  },
  {
   "cell_type": "code",
   "execution_count": 69,
   "id": "30d4f3c6",
   "metadata": {},
   "outputs": [],
   "source": [
    "s4 = \"easy easssy eay ey easssssssy\""
   ]
  },
  {
   "cell_type": "code",
   "execution_count": 70,
   "id": "55ef484c",
   "metadata": {},
   "outputs": [
    {
     "name": "stdout",
     "output_type": "stream",
     "text": [
      "['easy', 'easssy', 'eay', 'easssssssy']\n"
     ]
    }
   ],
   "source": [
    "x = re.findall('eas*y', s4)  #the word should starts with 'ea' followed by 's' and ending with 'y'.\n",
    "print(x)"
   ]
  },
  {
   "cell_type": "markdown",
   "id": "2fb2a556",
   "metadata": {},
   "source": [
    "#### 5- (+) matches one or more occurrences of the pattern to the left of it\n"
   ]
  },
  {
   "cell_type": "code",
   "execution_count": 71,
   "id": "e9953db1",
   "metadata": {},
   "outputs": [],
   "source": [
    "s4 = \"easy easssy eay ey\""
   ]
  },
  {
   "cell_type": "code",
   "execution_count": 72,
   "id": "140d9d82",
   "metadata": {},
   "outputs": [
    {
     "name": "stdout",
     "output_type": "stream",
     "text": [
      "['easy', 'easssy']\n"
     ]
    }
   ],
   "source": [
    "x = re.findall('eas+y', s4)\n",
    "print(x)"
   ]
  },
  {
   "cell_type": "markdown",
   "id": "ed374fd4",
   "metadata": {},
   "source": [
    "#### 6- (?) matches zero or one occurrence of the pattern left to it."
   ]
  },
  {
   "cell_type": "code",
   "execution_count": 73,
   "id": "23d41d37",
   "metadata": {},
   "outputs": [],
   "source": [
    "s5 = \"easy easssy eay ey\""
   ]
  },
  {
   "cell_type": "code",
   "execution_count": 74,
   "id": "565c88db",
   "metadata": {},
   "outputs": [
    {
     "name": "stdout",
     "output_type": "stream",
     "text": [
      "['easy', 'eay']\n"
     ]
    }
   ],
   "source": [
    "x = re.findall('eas?y', s4)\n",
    "print(x)"
   ]
  },
  {
   "cell_type": "markdown",
   "id": "1e8eaa37",
   "metadata": {},
   "source": [
    "#### 7- (|) either or"
   ]
  },
  {
   "cell_type": "code",
   "execution_count": 75,
   "id": "5117412b",
   "metadata": {},
   "outputs": [],
   "source": [
    "sttr = 'LetsUpgrad is the largest Ed-Tech Platform in India'"
   ]
  },
  {
   "cell_type": "code",
   "execution_count": 78,
   "id": "21bffcd5",
   "metadata": {},
   "outputs": [],
   "source": [
    "x = re.findall(\"LetUpgrad|US\", sttr)"
   ]
  },
  {
   "cell_type": "code",
   "execution_count": 79,
   "id": "b20d5da4",
   "metadata": {},
   "outputs": [
    {
     "data": {
      "text/plain": [
       "[]"
      ]
     },
     "execution_count": 79,
     "metadata": {},
     "output_type": "execute_result"
    }
   ],
   "source": [
    "x"
   ]
  },
  {
   "cell_type": "markdown",
   "id": "347ffe7d",
   "metadata": {},
   "source": [
    "### Examples and Use Cases in Regular Expressions"
   ]
  },
  {
   "cell_type": "markdown",
   "id": "f4b358e7",
   "metadata": {},
   "source": [
    "**1. Extracting the phone number**"
   ]
  },
  {
   "cell_type": "code",
   "execution_count": 39,
   "id": "bf26deff",
   "metadata": {},
   "outputs": [
    {
     "name": "stdout",
     "output_type": "stream",
     "text": [
      "It is verified\n"
     ]
    }
   ],
   "source": [
    "phn = 'My contact number is 222-446-7880 and my friend contact number is 879-354-15235'\n",
    "\n",
    "if re.search(\"\\d{3}-\\d{3}-\\d{4}\", phn):\n",
    "    print(\"It is verified\")\n",
    "else:\n",
    "    print(\"Incorrect Number\")"
   ]
  },
  {
   "cell_type": "code",
   "execution_count": 40,
   "id": "3621a935",
   "metadata": {},
   "outputs": [
    {
     "data": {
      "text/plain": [
       "['222-446-7880', '879-354-1523']"
      ]
     },
     "execution_count": 40,
     "metadata": {},
     "output_type": "execute_result"
    }
   ],
   "source": [
    "re.findall(\"\\d{3}-\\d{3}-\\d{4}\", phn)"
   ]
  },
  {
   "cell_type": "code",
   "execution_count": null,
   "id": "cf6e7c96",
   "metadata": {},
   "outputs": [],
   "source": []
  },
  {
   "cell_type": "markdown",
   "id": "23538e07",
   "metadata": {},
   "source": [
    "**2. Validating Email Addresses**"
   ]
  },
  {
   "cell_type": "code",
   "execution_count": 8,
   "id": "5bc4d3be",
   "metadata": {},
   "outputs": [],
   "source": [
    "ids = 'Shivam@gmail.com abhijit45@gmail.com tanya78@yahoo.com shivam@.com'\n",
    "\n",
    "r2 = re.findall('[\\w._%]{0,20}@[\\w-].[A-Za-z]{2,3}', ids)"
   ]
  },
  {
   "cell_type": "code",
   "execution_count": 9,
   "id": "49ab4958",
   "metadata": {},
   "outputs": [
    {
     "data": {
      "text/plain": [
       "['Shivam@gmail', 'abhijit45@gmail', 'tanya78@yahoo']"
      ]
     },
     "execution_count": 9,
     "metadata": {},
     "output_type": "execute_result"
    }
   ],
   "source": [
    "r2"
   ]
  },
  {
   "cell_type": "markdown",
   "id": "64dccd0b",
   "metadata": {},
   "source": [
    "**3. Extracting Dates & Time**"
   ]
  },
  {
   "cell_type": "code",
   "execution_count": 10,
   "id": "ce4d5c47",
   "metadata": {},
   "outputs": [
    {
     "data": {
      "text/plain": [
       "['23-07-1997']"
      ]
     },
     "execution_count": 10,
     "metadata": {},
     "output_type": "execute_result"
    }
   ],
   "source": [
    "date = 'My birth date is on 23-07-1997'\n",
    "\n",
    "re.findall(\"\\d{2}-\\d{2}-\\d{4}\", date)"
   ]
  },
  {
   "cell_type": "markdown",
   "id": "025bbb2b",
   "metadata": {},
   "source": [
    "**4. Cleaning Text Data**"
   ]
  },
  {
   "cell_type": "code",
   "execution_count": 11,
   "id": "48596a59",
   "metadata": {},
   "outputs": [],
   "source": [
    "inp = \"Hey, Are you excited??, After a 2 days, we will be in Shimla for 7 days!!!\""
   ]
  },
  {
   "cell_type": "code",
   "execution_count": 12,
   "id": "21d08481",
   "metadata": {},
   "outputs": [
    {
     "data": {
      "text/plain": [
       "'Hey  Are you excited    After a   days  we will be in Shimla for   days   '"
      ]
     },
     "execution_count": 12,
     "metadata": {},
     "output_type": "execute_result"
    }
   ],
   "source": [
    "re.sub('[^a-zA-Z]', ' ', inp)"
   ]
  },
  {
   "cell_type": "markdown",
   "id": "88e6187a",
   "metadata": {},
   "source": [
    "### NLP Application with Regex\n",
    "#### Tokenization"
   ]
  },
  {
   "cell_type": "code",
   "execution_count": 14,
   "id": "4f886ab5",
   "metadata": {},
   "outputs": [],
   "source": [
    "text = 'Walking, Talking, and Coding are interesting activities!!'"
   ]
  },
  {
   "cell_type": "code",
   "execution_count": 15,
   "id": "62edd765",
   "metadata": {},
   "outputs": [
    {
     "name": "stdout",
     "output_type": "stream",
     "text": [
      "['Walking', 'Talking', 'Coding', 'interesting']\n"
     ]
    }
   ],
   "source": [
    "x = re.findall(r'\\b\\w+ing\\b', text)\n",
    "print(x)"
   ]
  },
  {
   "cell_type": "code",
   "execution_count": 16,
   "id": "f5b83ccd",
   "metadata": {},
   "outputs": [
    {
     "name": "stdout",
     "output_type": "stream",
     "text": [
      "['Walking,', 'Talking,', 'and', 'Coding', 'are', 'interesting', 'activities!!']\n"
     ]
    }
   ],
   "source": [
    "tokens = re.split(r'\\s+', text)\n",
    "print(tokens)"
   ]
  },
  {
   "cell_type": "code",
   "execution_count": 18,
   "id": "de0b9ff1",
   "metadata": {},
   "outputs": [
    {
     "data": {
      "text/plain": [
       "'Coding'"
      ]
     },
     "execution_count": 18,
     "metadata": {},
     "output_type": "execute_result"
    }
   ],
   "source": [
    "tokens[3]"
   ]
  },
  {
   "cell_type": "markdown",
   "id": "a4f84cfa",
   "metadata": {},
   "source": [
    "#### Remove the sepecial chracters and punctuation"
   ]
  },
  {
   "cell_type": "code",
   "execution_count": 17,
   "id": "e25efff9",
   "metadata": {},
   "outputs": [
    {
     "data": {
      "text/plain": [
       "'Walking Talking and Coding are interesting activities'"
      ]
     },
     "execution_count": 17,
     "metadata": {},
     "output_type": "execute_result"
    }
   ],
   "source": [
    "re.sub(r'[^\\w\\s]', '', text)"
   ]
  },
  {
   "cell_type": "code",
   "execution_count": null,
   "id": "0e8a2ccb",
   "metadata": {},
   "outputs": [],
   "source": []
  },
  {
   "cell_type": "markdown",
   "id": "3517f7ba",
   "metadata": {},
   "source": [
    "### ***Q. Write a regular expression that matches a string where '45' occurs one or more times followed by the occurrence of '37' one or more times.***"
   ]
  },
  {
   "cell_type": "code",
   "execution_count": 23,
   "id": "724df595",
   "metadata": {},
   "outputs": [],
   "source": [
    "sample = ['4537', '45453737', '454545453737', '45', '37', '45537', '445537']"
   ]
  },
  {
   "cell_type": "code",
   "execution_count": 24,
   "id": "5ec5ed77",
   "metadata": {},
   "outputs": [
    {
     "name": "stdout",
     "output_type": "stream",
     "text": [
      "True\n",
      "True\n",
      "True\n",
      "False\n",
      "False\n",
      "False\n",
      "False\n"
     ]
    }
   ],
   "source": [
    "pattern = '(45)+(37)+'\n",
    "\n",
    "for i in sample:\n",
    "    r = re.search(pattern, i)\n",
    "    if r!= None:\n",
    "        print(True)\n",
    "    else:\n",
    "        print(False)"
   ]
  },
  {
   "cell_type": "code",
   "execution_count": null,
   "id": "58577be7",
   "metadata": {},
   "outputs": [],
   "source": []
  },
  {
   "cell_type": "markdown",
   "id": "dce2c178",
   "metadata": {},
   "source": [
    "### Few more examples"
   ]
  },
  {
   "cell_type": "markdown",
   "id": "a5a9bbc4",
   "metadata": {},
   "source": [
    "#### Using re.match()\n",
    "\n",
    "The match function is used to match the RegEx pattern to string with optional flag. Here, in this \"w+\" and \"\\W\" will match the words starting from \"i\" and thereafter ,anything which is not started with \"i\" is not identified. For checking match for each element in the list or string, we run the for loop."
   ]
  },
  {
   "cell_type": "code",
   "execution_count": 54,
   "id": "259f4510",
   "metadata": {},
   "outputs": [
    {
     "name": "stdout",
     "output_type": "stream",
     "text": [
      "('icecream', 'images')\n"
     ]
    }
   ],
   "source": [
    "li = ['icecream images', 'inner peace', 'shivam singh']\n",
    "\n",
    "for i in li:\n",
    "    q = re.match(\"(i\\w+)\\W(i\\w+)\", i)\n",
    "    \n",
    "    if q:\n",
    "        print(q.groups())"
   ]
  },
  {
   "cell_type": "markdown",
   "id": "e4812619",
   "metadata": {},
   "source": [
    "#### Finding Pattern in the text(re.search())\n",
    "\n",
    "A RegEx is commonly used to search for a pattern in the text. This method takes a RegEx pattern and a string and searches that pattern with the string.\n",
    "\n",
    "For using re.search() function, you need to import re first. The search() function takes the \"pattern\" and \"text\" to scan from our given string and returns the match object when the pattern found or else not match."
   ]
  },
  {
   "cell_type": "code",
   "execution_count": 59,
   "id": "936f5b99",
   "metadata": {},
   "outputs": [
    {
     "name": "stdout",
     "output_type": "stream",
     "text": [
      "Incorrect Number\n"
     ]
    }
   ],
   "source": [
    "phn = 'My contact number is 242-449-7890'\n",
    "\n",
    "if re.search(\"\\d{3}-\\d{3}-\\d{4}\", phn):\n",
    "    print(\"It is verified\")\n",
    "else:\n",
    "    print(\"Incorrect Number\")"
   ]
  },
  {
   "cell_type": "code",
   "execution_count": null,
   "id": "e6b3cb51",
   "metadata": {},
   "outputs": [],
   "source": []
  },
  {
   "cell_type": "markdown",
   "id": "f82d0392",
   "metadata": {},
   "source": [
    "#### Using re.findall() for text\n",
    "\n",
    "We use re.findall() module is when you wnat to iterate over the lines of the file, it'll do like list all the matches in one go. Here in a example, we would like to fetch email address from the list and we want to fetch all emails from the list, we use re.findall() method."
   ]
  },
  {
   "cell_type": "code",
   "execution_count": 85,
   "id": "df554ca1",
   "metadata": {},
   "outputs": [],
   "source": [
    "email = \"shivam96@gmail.com shivani@.com abhinav67@yahoo.com\""
   ]
  },
  {
   "cell_type": "code",
   "execution_count": 86,
   "id": "6117c892",
   "metadata": {},
   "outputs": [],
   "source": [
    "p = re.findall(\"[\\w._%]{0,20}@[\\w-].[A-Za-z]{2,3}\", email)"
   ]
  },
  {
   "cell_type": "code",
   "execution_count": 87,
   "id": "387bb6cd",
   "metadata": {},
   "outputs": [
    {
     "data": {
      "text/plain": [
       "['shivam96@gmail', 'abhinav67@yahoo']"
      ]
     },
     "execution_count": 87,
     "metadata": {},
     "output_type": "execute_result"
    }
   ],
   "source": [
    "p"
   ]
  },
  {
   "cell_type": "code",
   "execution_count": 65,
   "id": "c5db564c",
   "metadata": {},
   "outputs": [],
   "source": [
    "k = 'Shivam@upgrad.com abhijit45@gmail.com tanya78@yahoo.com'"
   ]
  },
  {
   "cell_type": "code",
   "execution_count": 66,
   "id": "4a9c9ba7",
   "metadata": {},
   "outputs": [],
   "source": [
    "r2 = re.findall(r'[\\w\\.-]+@[\\w\\.-]+', k)"
   ]
  },
  {
   "cell_type": "code",
   "execution_count": 67,
   "id": "4bb0bd88",
   "metadata": {},
   "outputs": [
    {
     "data": {
      "text/plain": [
       "['Shivam@upgrad.com', 'abhijit45@gmail.com', 'tanya78@yahoo.com']"
      ]
     },
     "execution_count": 67,
     "metadata": {},
     "output_type": "execute_result"
    }
   ],
   "source": [
    "r2"
   ]
  },
  {
   "cell_type": "markdown",
   "id": "7d72c09d",
   "metadata": {},
   "source": [
    "### Greedy vs Non Greedy quantifiers\n",
    "\n",
    "#### Greedy Match –\n",
    "*A greedy match in regular expression tries to match as many characters as possible.*\n",
    "\n",
    "*For example [0-9]+ will try to match as many digits as possible. It gets never enough of it. It’s too greedy.*"
   ]
  },
  {
   "cell_type": "code",
   "execution_count": 10,
   "id": "ddf9c7ba",
   "metadata": {},
   "outputs": [
    {
     "data": {
      "text/plain": [
       "['12345678910']"
      ]
     },
     "execution_count": 10,
     "metadata": {},
     "output_type": "execute_result"
    }
   ],
   "source": [
    "import re\n",
    "re.findall('[0-9]+', '12345678910')"
   ]
  },
  {
   "cell_type": "code",
   "execution_count": 11,
   "id": "59ea9e67",
   "metadata": {},
   "outputs": [
    {
     "data": {
      "text/plain": [
       "['12345678910', '']"
      ]
     },
     "execution_count": 11,
     "metadata": {},
     "output_type": "execute_result"
    }
   ],
   "source": [
    "# zero or more occurrences\n",
    "re.findall('[0-9]*', '12345678910')"
   ]
  },
  {
   "cell_type": "code",
   "execution_count": 12,
   "id": "4f53082a",
   "metadata": {},
   "outputs": [
    {
     "data": {
      "text/plain": [
       "['1', '2', '3', '4', '5', '6', '7', '8', '9', '1', '0']"
      ]
     },
     "execution_count": 12,
     "metadata": {},
     "output_type": "execute_result"
    }
   ],
   "source": [
    "# one or more occurrences\n",
    "re.findall('[0-9]+?', '12345678910')"
   ]
  },
  {
   "cell_type": "code",
   "execution_count": 5,
   "id": "38e54f74",
   "metadata": {},
   "outputs": [
    {
     "data": {
      "text/plain": [
       "['1', '2', '3', '4', '5', '6', '7', '8', '9', '1', '0', '']"
      ]
     },
     "execution_count": 5,
     "metadata": {},
     "output_type": "execute_result"
    }
   ],
   "source": [
    "# zero or one occurrences\n",
    "re.findall('[0-9]?', '12345678910')"
   ]
  },
  {
   "cell_type": "code",
   "execution_count": 6,
   "id": "8bfd9aaf",
   "metadata": {},
   "outputs": [
    {
     "data": {
      "text/plain": [
       "['12345', '67891']"
      ]
     },
     "execution_count": 6,
     "metadata": {},
     "output_type": "execute_result"
    }
   ],
   "source": [
    "# exactly 5 occurrences\n",
    "re.findall('[0-9]{5}', '12345678910')"
   ]
  },
  {
   "cell_type": "code",
   "execution_count": 7,
   "id": "af9a1df5",
   "metadata": {},
   "outputs": [
    {
     "data": {
      "text/plain": [
       "['12345', '67891']"
      ]
     },
     "execution_count": 7,
     "metadata": {},
     "output_type": "execute_result"
    }
   ],
   "source": [
    "# at least 2 but not greater than 5\n",
    "re.findall('[0-9]{2,5}', '12345678910')"
   ]
  },
  {
   "cell_type": "markdown",
   "id": "547a5944",
   "metadata": {},
   "source": [
    "#### Non Greedy Match –\n",
    "A Non-Greedy match tries match as few characters as possible."
   ]
  },
  {
   "cell_type": "code",
   "execution_count": 8,
   "id": "4f002bab",
   "metadata": {},
   "outputs": [
    {
     "data": {
      "text/plain": [
       "['12345678910', '']"
      ]
     },
     "execution_count": 8,
     "metadata": {},
     "output_type": "execute_result"
    }
   ],
   "source": [
    "re.findall('[0-9]*', '12345678910')"
   ]
  },
  {
   "cell_type": "code",
   "execution_count": 9,
   "id": "af6add3a",
   "metadata": {},
   "outputs": [
    {
     "data": {
      "text/plain": [
       "['',\n",
       " '1',\n",
       " '',\n",
       " '2',\n",
       " '',\n",
       " '3',\n",
       " '',\n",
       " '4',\n",
       " '',\n",
       " '5',\n",
       " '',\n",
       " '6',\n",
       " '',\n",
       " '7',\n",
       " '',\n",
       " '8',\n",
       " '',\n",
       " '9',\n",
       " '',\n",
       " '1',\n",
       " '',\n",
       " '0',\n",
       " '']"
      ]
     },
     "execution_count": 9,
     "metadata": {},
     "output_type": "execute_result"
    }
   ],
   "source": [
    "re.findall('[0-9]*?', '12345678910')"
   ]
  },
  {
   "cell_type": "code",
   "execution_count": null,
   "id": "8203908e",
   "metadata": {},
   "outputs": [],
   "source": []
  }
 ],
 "metadata": {
  "kernelspec": {
   "display_name": "Python 3 (ipykernel)",
   "language": "python",
   "name": "python3"
  },
  "language_info": {
   "codemirror_mode": {
    "name": "ipython",
    "version": 3
   },
   "file_extension": ".py",
   "mimetype": "text/x-python",
   "name": "python",
   "nbconvert_exporter": "python",
   "pygments_lexer": "ipython3",
   "version": "3.10.9"
  }
 },
 "nbformat": 4,
 "nbformat_minor": 5
}
